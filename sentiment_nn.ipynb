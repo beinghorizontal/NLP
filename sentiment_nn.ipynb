{
  "nbformat": 4,
  "nbformat_minor": 0,
  "metadata": {
    "colab": {
      "name": "sentiment_nn.ipynb",
      "provenance": [],
      "collapsed_sections": []
    },
    "kernelspec": {
      "name": "python3",
      "display_name": "Python 3"
    },
    "accelerator": "GPU"
  },
  "cells": [
    {
      "cell_type": "code",
      "metadata": {
        "id": "e1cgBpCvL7zl",
        "colab_type": "code",
        "colab": {}
      },
      "source": [
        "#to work with data stored in your google drive\n",
        "from google.colab import drive \n",
        "drive.mount('/content/drive/') \n",
        "\n"
      ],
      "execution_count": 0,
      "outputs": []
    },
    {
      "cell_type": "code",
      "metadata": {
        "id": "6Q8g06dmOuxQ",
        "colab_type": "code",
        "outputId": "04f02c2c-aa90-4c0f-f6e4-9a751d8aae28",
        "colab": {
          "base_uri": "https://localhost:8080/",
          "height": 135
        }
      },
      "source": [
        "\"if the data is in zip format then uncomment below line to unzip \"\n",
        "#!unzip -uq \"drive/My Drive/deeplearning/trainingandtestdata.zip\" -d \"drive/My Drive/deeplearning/tweet140\"\n",
        "import pandas as pd\n",
        "import numpy as np\n",
        "from sklearn.feature_extraction.text import CountVectorizer\n",
        "from tensorflow.keras.preprocessing.text import Tokenizer\n",
        "from tensorflow.keras.preprocessing.sequence import pad_sequences\n",
        "from tensorflow.keras.models import Sequential\n",
        "from tensorflow.keras.layers import Dense, Embedding, LSTM, SpatialDropout1D\n",
        "from sklearn.model_selection import train_test_split\n",
        "from tensorflow.keras.utils import to_categorical\n",
        "import re\n",
        "\n",
        "\n",
        "data = pd.read_csv('/content/drive/My Drive/deeplearning/tweet140/tweet_sentiment.csv',encoding='ISO-8859-1')\n",
        "data.columns = ['sentiment','string_id','date','query','handle','text']\n",
        "data = data[['sentiment','text']]\n",
        "#data = data[data.sentiment != \"Neutral\"]\n",
        "print('before randomize ', '\\n',data['text'].head(5))\n",
        "\n"
      ],
      "execution_count": 4,
      "outputs": [
        {
          "output_type": "stream",
          "text": [
            "before randomize  \n",
            " 0    is upset that he can't update his Facebook by ...\n",
            "1    @Kenichan I dived many times for the ball. Man...\n",
            "2      my whole body feels itchy and like its on fire \n",
            "3    @nationwideclass no, it's not behaving at all....\n",
            "4                        @Kwesidei not the whole crew \n",
            "Name: text, dtype: object\n"
          ],
          "name": "stdout"
        }
      ]
    },
    {
      "cell_type": "code",
      "metadata": {
        "id": "oRWH8IU4XSsH",
        "colab_type": "code",
        "outputId": "0ee941fc-2785-4e63-8a65-b89c6f8e5b50",
        "colab": {
          "base_uri": "https://localhost:8080/",
          "height": 168
        }
      },
      "source": [
        "\"remove @mentions\"\n",
        "data = data.replace(\"\\@[a-zA-Z]+\", \"\",regex=True)\n",
        "\n",
        "data['text'] = data['text'].apply(lambda x: x.lower())\n",
        "data['text'] = data['text'].apply((lambda x: re.sub('[^a-zA-z0-9\\s]','',x)))\n",
        "\"Twitter sentiment data we are working on is pre-labelled. 0 is negative and 4 is positive\"\n",
        "print((data['sentiment']==4).sum())\n",
        "print((data['sentiment']==0).sum())\n",
        "\n",
        "\"We have to randomise the data to mix up negative and positive tweets\"\n",
        "\"randomize data\"\n",
        "data = data.sample(frac=1).reset_index(drop=True)\n",
        "print('after randomize, lower case, removing mentions ', '\\n',data['text'].head(5))\n",
        "\n"
      ],
      "execution_count": 5,
      "outputs": [
        {
          "output_type": "stream",
          "text": [
            "800000\n",
            "799999\n",
            "after randomize, lower case, removing mentions  \n",
            " 0    gtotheatothegtothea gaga thats what you say  l...\n",
            "1                            i love good news week    \n",
            "2    how could i miss david archuletas tv guesting ...\n",
            "3     ultrascreen turns out to also just be a reall...\n",
            "4     nascar and asians no offense bro but that jus...\n",
            "Name: text, dtype: object\n"
          ],
          "name": "stdout"
        }
      ]
    },
    {
      "cell_type": "code",
      "metadata": {
        "id": "8ejAnHalX3C_",
        "colab_type": "code",
        "colab": {}
      },
      "source": [
        "max_features = 2000\n",
        "\"convert text into numbers\"\n",
        "tokenizer = Tokenizer(num_words=max_features, split=' ')\n",
        "tokenizer.fit_on_texts(data['text'].values)\n",
        "X = tokenizer.texts_to_sequences(data['text'].values)\n",
        "X = pad_sequences(X)\n",
        "\n",
        "\n",
        "\n"
      ],
      "execution_count": 0,
      "outputs": []
    },
    {
      "cell_type": "code",
      "metadata": {
        "id": "71EVkRDeY9kN",
        "colab_type": "code",
        "colab": {}
      },
      "source": [
        "#......................................................... lstm .......\n",
        "\"Do note that this network is not optimised for GPU, especially recurrent_dropout. Remove that line for a GPU optimisation\"\n",
        "def get_model(X):\n",
        "  nn = 196\n",
        "  embed_dim = 128\n",
        "  model = Sequential()\n",
        "  model.add(Embedding(max_features, embed_dim,input_length = X.shape[1]))\n",
        "  #model.add(SpatialDropout1D(0.4))\n",
        "  model.add(LSTM(nn, dropout=0.2))\n",
        "  model.add(Dense(2,activation='softmax'))\n",
        "  model.compile(loss = 'categorical_crossentropy', optimizer='adam',metrics = ['accuracy'])\n",
        "  print(model.summary())\n",
        "  return(model)\n",
        "\n",
        "model = get_model(X=X)\n"
      ],
      "execution_count": 0,
      "outputs": []
    },
    {
      "cell_type": "code",
      "metadata": {
        "id": "8DtJbo5EX6Q8",
        "colab_type": "code",
        "outputId": "ec410d0b-04bc-443d-a4e3-9245d80c8e63",
        "colab": {
          "base_uri": "https://localhost:8080/",
          "height": 50
        }
      },
      "source": [
        "\"This Pandas function works as one-hot-encoding\"\n",
        "Y =  pd.get_dummies(data['sentiment']).values\n",
        "Y[0]\n",
        "data.iloc[0]['sentiment']\n",
        "X_train, X_test, Y_train, Y_test = train_test_split(X,Y, test_size = 0.50, random_state = 42)\n",
        "print(X_train.shape,Y_train.shape)\n",
        "print(X_test.shape,Y_test.shape)\n"
      ],
      "execution_count": 8,
      "outputs": [
        {
          "output_type": "stream",
          "text": [
            "(799999, 40) (799999, 2)\n",
            "(800000, 40) (800000, 2)\n"
          ],
          "name": "stdout"
        }
      ]
    },
    {
      "cell_type": "code",
      "metadata": {
        "id": "g0A96rneYH_M",
        "colab_type": "code",
        "colab": {}
      },
      "source": [
        "\"We save the pre-trained model as validation accuracy improves, also useful to retrain again\"\n",
        "from tensorflow.keras.callbacks import EarlyStopping, ModelCheckpoint\n",
        "\n",
        "checkpointer = (ModelCheckpoint(filepath=\"/content/drive/My Drive/deeplearning/nlp.h5\", monitor='val_accuracy',\n",
        "                                verbose=1, save_best_only=True))\n",
        "\n",
        "earlystopper = EarlyStopping(monitor='val_accuracy', patience=7, verbose=1, mode='max')\n",
        "\n",
        "k=0\n",
        "trainac=[]\n",
        "valac=[]\n",
        "#class_weights={0:1.,1:1.}\n",
        "batch_size = 332\n",
        "history = model.fit(X_train, Y_train, epochs = 30, batch_size=batch_size, verbose = 2,\n",
        "                    \n",
        "          validation_data=(X_test,Y_test),callbacks=[earlystopper,checkpointer])\n",
        "\n",
        "\n",
        "#epochs = 155 best trained afterwords overfit expect 65% accurecy\n",
        "\n",
        "trainl=(history.history['acc']) #, label='train')\n",
        "vall=(history.history['val_acc'])\n",
        "\n",
        "df_fit=pd.DataFrame({'trainac':trainl,'valac':vall})\n",
        "df_fit.plot()\n"
      ],
      "execution_count": 0,
      "outputs": []
    },
    {
      "cell_type": "code",
      "metadata": {
        "id": "hugIeSPValVE",
        "colab_type": "code",
        "colab": {
          "base_uri": "https://localhost:8080/",
          "height": 814
        },
        "outputId": "f5a4a7aa-67e1-417d-ac34-40a6b5848691"
      },
      "source": [
        "\"retrain from where you left if colab disconnects after 12 hr\"\n",
        "new_model = get_model(X=X)\n",
        "\n",
        "from tensorflow.keras.models import load_model\n",
        "model_path = \"/content/drive/My Drive/deeplearning/nlp.h5\"\n",
        "n_model = load_model(model_path)\n",
        "old_weights  = n_model.get_weights()\n",
        "new_model.set_weights(old_weights)\n",
        "\n",
        "batch_size = 332\n",
        "history = new_model.fit(X_train, Y_train, epochs = 30, batch_size=batch_size, verbose = 2,\n",
        "          validation_data=(X_test,Y_test),callbacks=[earlystopper,checkpointer])\n",
        "\n",
        "\n",
        "#epochs = 155 best trained afterwords overfit expect 65% accurecy\n",
        "\n",
        "trainl=(history.history['acc']) #, label='train')\n",
        "vall=(history.history['val_acc'])\n",
        "\n",
        "df_fit=pd.DataFrame({'trainac':trainl,'valac':vall})\n",
        "df_fit.plot()\n"
      ],
      "execution_count": 16,
      "outputs": [
        {
          "output_type": "stream",
          "text": [
            "Model: \"sequential_4\"\n",
            "_________________________________________________________________\n",
            "Layer (type)                 Output Shape              Param #   \n",
            "=================================================================\n",
            "embedding_4 (Embedding)      (None, 40, 128)           256000    \n",
            "_________________________________________________________________\n",
            "lstm_4 (LSTM)                (None, 196)               254800    \n",
            "_________________________________________________________________\n",
            "dense_4 (Dense)              (None, 2)                 394       \n",
            "=================================================================\n",
            "Total params: 511,194\n",
            "Trainable params: 511,194\n",
            "Non-trainable params: 0\n",
            "_________________________________________________________________\n",
            "None\n",
            "WARNING:tensorflow:Layer lstm will not use cuDNN kernel since it doesn't meet the cuDNN kernel criteria. It will use generic GPU kernel as fallback when running on GPU\n",
            "Epoch 1/30\n",
            "\n",
            "Epoch 00001: val_accuracy improved from -inf to 0.82578, saving model to /content/drive/My Drive/deeplearning/nlp.h5\n",
            "2410/2410 - 106s - loss: 0.3935 - accuracy: 0.8193 - val_loss: 0.3833 - val_accuracy: 0.8258\n",
            "Epoch 2/30\n",
            "\n",
            "Epoch 00002: val_accuracy did not improve from 0.82578\n",
            "2410/2410 - 105s - loss: 0.3749 - accuracy: 0.8299 - val_loss: 0.3843 - val_accuracy: 0.8256\n",
            "Epoch 3/30\n"
          ],
          "name": "stdout"
        },
        
      ]
    }
  ]
}
